{
 "cells": [
  {
   "cell_type": "code",
   "execution_count": 1,
   "id": "e3f2729f",
   "metadata": {},
   "outputs": [],
   "source": [
    "# auomate the eda Process "
   ]
  },
  {
   "cell_type": "code",
   "execution_count": 2,
   "id": "405064ac",
   "metadata": {},
   "outputs": [
    {
     "data": {
      "application/vnd.jupyter.widget-view+json": {
       "model_id": "d621efcc145442b1bf6a060ec9839f2b",
       "version_major": 2,
       "version_minor": 0
      },
      "text/plain": [
       "Summarize dataset:   0%|          | 0/5 [00:00<?, ?it/s]"
      ]
     },
     "metadata": {},
     "output_type": "display_data"
    },
    {
     "name": "stderr",
     "output_type": "stream",
     "text": [
      "100%|██████████| 13/13 [00:00<00:00, 26.12it/s]\n"
     ]
    },
    {
     "data": {
      "application/vnd.jupyter.widget-view+json": {
       "model_id": "27d96e7a1c1f405dafd0fd056b0b4df3",
       "version_major": 2,
       "version_minor": 0
      },
      "text/plain": [
       "Generate report structure:   0%|          | 0/1 [00:00<?, ?it/s]"
      ]
     },
     "metadata": {},
     "output_type": "display_data"
    },
    {
     "data": {
      "application/vnd.jupyter.widget-view+json": {
       "model_id": "61b8763e0c1d45afb6cebd1b1aa02e11",
       "version_major": 2,
       "version_minor": 0
      },
      "text/plain": [
       "Render HTML:   0%|          | 0/1 [00:00<?, ?it/s]"
      ]
     },
     "metadata": {},
     "output_type": "display_data"
    },
    {
     "data": {
      "application/vnd.jupyter.widget-view+json": {
       "model_id": "2bcf6c7386a242418d23389465cafb60",
       "version_major": 2,
       "version_minor": 0
      },
      "text/plain": [
       "Export report to file:   0%|          | 0/1 [00:00<?, ?it/s]"
      ]
     },
     "metadata": {},
     "output_type": "display_data"
    },
    {
     "data": {
      "text/plain": [
       "True"
      ]
     },
     "execution_count": 2,
     "metadata": {},
     "output_type": "execute_result"
    }
   ],
   "source": [
    "import pandas as pd\n",
    "from ydata_profiling import ProfileReport\n",
    "from datetime import datetime\n",
    "import os, webbrowser\n",
    "\n",
    "# Load dataset\n",
    "df = pd.read_csv(\"cleaned_loan_predictions.csv\")\n",
    "\n",
    "# Timestamp\n",
    "timestamp = datetime.now().strftime(\"%Y-%m-%d %H:%M:%S\")\n",
    "\n",
    "# Create the profile report (EDA)\n",
    "profile = ProfileReport(\n",
    "    df,\n",
    "    title=\"EDA Report | Loan Default Prediction\",\n",
    "    explorative=True,\n",
    "    minimal=False,\n",
    ")\n",
    "\n",
    "# Save report\n",
    "report_path = \"../docs/index.html\"\n",
    "profile.to_file(report_path)\n",
    "\n",
    "# Read generated HTML\n",
    "with open(report_path, \"r\", encoding=\"utf-8\") as file:\n",
    "    html = file.read()\n",
    "\n",
    "# ---- 🔧 Add Premium Custom Branding, CSS, Navbar, Favicon ----\n",
    "\n",
    "favicon_url = \"https://cdn-icons-png.flaticon.com/512/1828/1828817.png\"  # Replace with any icon you like\n",
    "\n",
    "custom_head = f\"\"\"\n",
    "<!-- 🔥 Custom Head -->\n",
    "<link rel=\"icon\" href=\"{favicon_url}\" type=\"image/png\">\n",
    "<title>📊 Loan Prediction Report | Ankit Yadav</title>\n",
    "<style>\n",
    "    body {{\n",
    "        background-color: #f7f9fc !important;\n",
    "        color: #212529 !important;\n",
    "        font-family: 'Segoe UI', Tahoma, sans-serif;\n",
    "    }}\n",
    "    .navbar {{\n",
    "        background-color: #007bff !important;\n",
    "        padding: 10px 20px;\n",
    "        display: flex;\n",
    "        justify-content: space-between;\n",
    "        align-items: center;\n",
    "        color: white;\n",
    "    }}\n",
    "    .navbar h2 {{\n",
    "        margin: 0;\n",
    "        color: white;\n",
    "        font-size: 20px;\n",
    "    }}\n",
    "    .navbar a {{\n",
    "        color: white;\n",
    "        text-decoration: none;\n",
    "        margin-left: 20px;\n",
    "        font-weight: bold;\n",
    "    }}\n",
    "    .branding {{\n",
    "        text-align: center;\n",
    "        margin-top: 20px;\n",
    "        margin-bottom: 30px;\n",
    "    }}\n",
    "    .branding img {{\n",
    "        border-radius: 50%;\n",
    "    }}\n",
    "    .branding h2 {{\n",
    "        color: #2c3e50;\n",
    "    }}\n",
    "    .branding p {{\n",
    "        color: #6c757d;\n",
    "        font-size: 14px;\n",
    "    }}\n",
    "</style>\n",
    "\"\"\"\n",
    "\n",
    "navbar = \"\"\"\n",
    "<!-- 🔷 Custom Navigation Bar -->\n",
    "<div class=\"navbar\">\n",
    "    <h2>📈 Loan Analysis Dashboard</h2>\n",
    "    <div>\n",
    "        <a href=\"#\">EDA Report</a>\n",
    "        <a href=\"#\">Model Results</a>\n",
    "    </div>\n",
    "</div>\n",
    "\"\"\"\n",
    "\n",
    "branding_html = f\"\"\"\n",
    "<!-- 🙋 Branding Section -->\n",
    "<div class=\"branding\">\n",
    "    <img src=\"https://avatars.githubusercontent.com/u/9919?s=200&v=4\" alt=\"Logo\" width=\"80\">\n",
    "    <h2>Ankit Yadav</h2>\n",
    "    <p>📊 Loan Default Prediction Report | Generated on {timestamp}</p>\n",
    "</div>\n",
    "\"\"\"\n",
    "\n",
    "# Inject custom head + navbar + branding\n",
    "html = html.replace(\"</head>\", f\"{custom_head}</head>\")\n",
    "html = html.replace(\"<body>\", f\"<body>{navbar}{branding_html}\")\n",
    "\n",
    "# Save updated report\n",
    "with open(report_path, \"w\", encoding=\"utf-8\") as file:\n",
    "    file.write(html)\n",
    "\n",
    "# Open report automatically\n",
    "webbrowser.open(\"file://\" + os.path.abspath(report_path))\n"
   ]
  },
  {
   "cell_type": "code",
   "execution_count": null,
   "id": "2991a1b9",
   "metadata": {},
   "outputs": [],
   "source": []
  }
 ],
 "metadata": {
  "kernelspec": {
   "display_name": "Python (myenv)",
   "language": "python",
   "name": "myenv"
  },
  "language_info": {
   "codemirror_mode": {
    "name": "ipython",
    "version": 3
   },
   "file_extension": ".py",
   "mimetype": "text/x-python",
   "name": "python",
   "nbconvert_exporter": "python",
   "pygments_lexer": "ipython3",
   "version": "3.12.8"
  }
 },
 "nbformat": 4,
 "nbformat_minor": 5
}
